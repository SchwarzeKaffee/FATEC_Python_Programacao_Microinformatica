{
  "nbformat": 4,
  "nbformat_minor": 0,
  "metadata": {
    "colab": {
      "provenance": []
    },
    "kernelspec": {
      "name": "python3",
      "display_name": "Python 3"
    },
    "language_info": {
      "name": "python"
    }
  },
  "cells": [
    {
      "cell_type": "code",
      "execution_count": null,
      "metadata": {
        "id": "qwD2TRIl7Esv"
      },
      "outputs": [],
      "source": [
        "!pip install openpyxl\n",
        "import openpyxl\n",
        "from openpyxl import Workbook\n",
        "from google.colab import files\n",
        "from openpyxl import load_workbook\n",
        "from openpyxl.styles import Font, PatternFill, Border, Side, Alignment\n",
        "from openpyxl.chart import BarChart, Reference\n"
      ]
    },
    {
      "cell_type": "markdown",
      "source": [
        "Exercício 1 – Criando e preenchendo uma planilha"
      ],
      "metadata": {
        "id": "-k7ELkHK7tJE"
      }
    },
    {
      "cell_type": "code",
      "source": [
        "wb = Workbook()\n",
        "plan1 = wb.active\n",
        "plan1.title = \"Alunos\"\n",
        "plan1.append([\"Nome\", \"Nota 1\", \"Nota 2\", \"Média\"])\n",
        "dados = [(\"João\", 10, 7, (10+7)/2),\n",
        "         (\"Maria\", 8, 3.5, (8+3.5)/2),\n",
        "         (\"José\", 4.7, 9, (4.7+9)/2),\n",
        "         (\"Aline\", 8, 6.8, (8+6.8)/2),\n",
        "         (\"Fernando\", 5, 9.3, (5+9.3)/2)]\n",
        "for linha in dados:\n",
        "    plan1.append(linha)\n",
        "\n",
        "wb.save(\"notas.xlsx\")\n",
        "arquivo = \"notas.xlsx\"\n",
        "wb.save(arquivo)\n",
        "files.download(arquivo)"
      ],
      "metadata": {
        "id": "6PMkcied7t-0"
      },
      "execution_count": null,
      "outputs": []
    },
    {
      "cell_type": "markdown",
      "source": [
        "Exercício 3 – Formatação e gráficos no Excel"
      ],
      "metadata": {
        "id": "r7N8cSdCvskR"
      }
    },
    {
      "cell_type": "code",
      "source": [
        "planilha_vendas = Workbook()\n",
        "ws = wb.active\n",
        "ws.title = \"Vendas\"\n",
        "\n",
        "headers = [\"Mês\", \"Vendas (R$)\"]\n",
        "ws.append(headers)\n",
        "\n",
        "dados = [(\"Janeiro\", 3000),\n",
        "        (\"Fevereiro\", 2237),\n",
        "        (\"Março\", 9420),\n",
        "        (\"Abril\", 1898),\n",
        "        (\"Maio\", 2633),\n",
        "        (\"Junho\", 5458)]\n",
        "for linha in dados:\n",
        "    ws.append(linha)\n",
        "\n",
        "header_fill = PatternFill(start_color=\"FFD966\", end_color=\"FFD966\", fill_type=\"solid\")\n",
        "header_font = Font(bold=True, color=\"000000\")\n",
        "thin_border = Border(left=Side(style=\"thin\"), right=Side(style=\"thin\"),\n",
        "                     top=Side(style=\"thin\"), bottom=Side(style=\"thin\"))\n",
        "\n",
        "chart = BarChart()\n",
        "chart.title = \"Compras por Mês\"\n",
        "chart.x_axis.title = \"Mês\"\n",
        "chart.y_axis.title = \"Vendas (R$)\"\n",
        "\n",
        "dados_vendas = Reference(ws, min_col=2, min_row=1, max_row=7)\n",
        "meses = Reference(ws, min_col=1, min_row=2, max_row=7)\n",
        "\n",
        "chart.add_data(dados_vendas, titles_from_data=True)\n",
        "chart.set_categories(meses)\n",
        "ws.add_chart(chart, \"D2\")\n",
        "\n",
        "arquivo = \"grafico_vendas.xlsx\"\n",
        "wb.save(arquivo)\n",
        "files.download(arquivo)"
      ],
      "metadata": {
        "id": "6J4n6NlfJtsh",
        "colab": {
          "base_uri": "https://localhost:8080/",
          "height": 17
        },
        "outputId": "de72ecd3-5e0f-4a42-c172-3fa7d782a6c3"
      },
      "execution_count": 62,
      "outputs": [
        {
          "output_type": "display_data",
          "data": {
            "text/plain": [
              "<IPython.core.display.Javascript object>"
            ],
            "application/javascript": [
              "\n",
              "    async function download(id, filename, size) {\n",
              "      if (!google.colab.kernel.accessAllowed) {\n",
              "        return;\n",
              "      }\n",
              "      const div = document.createElement('div');\n",
              "      const label = document.createElement('label');\n",
              "      label.textContent = `Downloading \"${filename}\": `;\n",
              "      div.appendChild(label);\n",
              "      const progress = document.createElement('progress');\n",
              "      progress.max = size;\n",
              "      div.appendChild(progress);\n",
              "      document.body.appendChild(div);\n",
              "\n",
              "      const buffers = [];\n",
              "      let downloaded = 0;\n",
              "\n",
              "      const channel = await google.colab.kernel.comms.open(id);\n",
              "      // Send a message to notify the kernel that we're ready.\n",
              "      channel.send({})\n",
              "\n",
              "      for await (const message of channel.messages) {\n",
              "        // Send a message to notify the kernel that we're ready.\n",
              "        channel.send({})\n",
              "        if (message.buffers) {\n",
              "          for (const buffer of message.buffers) {\n",
              "            buffers.push(buffer);\n",
              "            downloaded += buffer.byteLength;\n",
              "            progress.value = downloaded;\n",
              "          }\n",
              "        }\n",
              "      }\n",
              "      const blob = new Blob(buffers, {type: 'application/binary'});\n",
              "      const a = document.createElement('a');\n",
              "      a.href = window.URL.createObjectURL(blob);\n",
              "      a.download = filename;\n",
              "      div.appendChild(a);\n",
              "      a.click();\n",
              "      div.remove();\n",
              "    }\n",
              "  "
            ]
          },
          "metadata": {}
        },
        {
          "output_type": "display_data",
          "data": {
            "text/plain": [
              "<IPython.core.display.Javascript object>"
            ],
            "application/javascript": [
              "download(\"download_ec07a0d4-7cb8-477b-bcab-e6bb27a29b05\", \"grafico_vendas.xlsx\", 8822)"
            ]
          },
          "metadata": {}
        }
      ]
    },
    {
      "cell_type": "markdown",
      "source": [
        "Exercício 2 – Lendo e modificando uma planilha existente"
      ],
      "metadata": {
        "id": "dIsHku4iBpZE"
      }
    },
    {
      "cell_type": "code",
      "source": [
        "wb = openpyxl.load_workbook(\"produtos.xlsx\")\n",
        "ws = wb.active\n",
        "\n",
        "for produto, quantidade, valor in ws.iter_rows(min_row=2, min_col=1, max_col=3, values_only=True):\n",
        "    print(f\"Produto: {produto}, {quantidade} unidades, Valor: R$ {valor:,.2f}\")\n",
        "\n",
        "print(\"----------------------------------------------------------------------\")\n",
        "ws[\"D1\"].value = \"Valor Total\"\n",
        "\n",
        "for row_index, (produto, quantidade, valor) in enumerate(ws.iter_rows(min_row=2, min_col=1, max_col=3, values_only=True), start=2):\n",
        "    valor_total = quantidade * valor\n",
        "    ws[f\"D{row_index}\"].value = valor_total\n",
        "    print(f\"{produto} {quantidade} unidades, valor: R$ {valor:,.2f}, Valor Total: R$ {valor_total:,.2f}\")\n",
        "\n",
        "font_bold = Font(bold = True)\n",
        "for cell in ws[1]:\n",
        "    cell.font = font_bold\n",
        "\n",
        "wb.save(\"produtos_atualizados.xlsx\")\n",
        "files.download(\"produtos_atualizados.xlsx\")"
      ],
      "metadata": {
        "id": "GSb1vhVP-GDy"
      },
      "execution_count": null,
      "outputs": []
    }
  ]
}
